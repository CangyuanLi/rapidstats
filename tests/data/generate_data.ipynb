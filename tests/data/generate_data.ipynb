{
 "cells": [
  {
   "cell_type": "code",
   "execution_count": null,
   "id": "29fc89c3",
   "metadata": {},
   "outputs": [],
   "source": [
    "import sklearn.datasets\n",
    "import sklearn.linear_model\n",
    "import sklearn.model_selection\n",
    "import sklearn.ensemble\n",
    "import polars as pl\n",
    "import polars.selectors as cs"
   ]
  },
  {
   "cell_type": "code",
   "execution_count": null,
   "id": "377c6569",
   "metadata": {},
   "outputs": [],
   "source": [
    "df = (\n",
    "    pl.scan_parquet(\"credit_card_fraud.parquet\")\n",
    "    .select(cs.starts_with(\"V\"), \"Class\")\n",
    "    .collect()\n",
    ")\n",
    "\n",
    "features = cs.expand_selector(df, cs.starts_with(\"V\"))\n",
    "\n",
    "train, test = sklearn.model_selection.train_test_split(df)\n",
    "\n",
    "model = sklearn.ensemble.RandomForestClassifier(max_depth=4, random_state=208)\n",
    "model = model.fit(train[features], train[\"Class\"])\n",
    "\n",
    "pl.DataFrame(\n",
    "    {\"y_true\": test[\"Class\"], \"y_score\": model.predict_proba(test[features])[:, 1]}\n",
    ").write_parquet(\"scores.parquet\")"
   ]
  },
  {
   "cell_type": "code",
   "execution_count": null,
   "id": "a3e3e52a",
   "metadata": {},
   "outputs": [],
   "source": [
    "d = sklearn.datasets.load_iris()\n",
    "\n",
    "\n",
    "features = d.feature_names\n",
    "df = pl.DataFrame(d.data, schema=features).with_columns(\n",
    "    pl.Series(\"target\", d.target).eq(1)\n",
    ")\n",
    "\n",
    "train, test = sklearn.model_selection.train_test_split(\n",
    "    df, test_size=0.5, random_state=208\n",
    ")\n",
    "\n",
    "model = sklearn.linear_model.LogisticRegression().fit(train[features], train[\"target\"])\n",
    "preds = model.predict_proba(test[features])[:, 1]\n",
    "\n",
    "print(len(test))\n",
    "pl.DataFrame({\"y_true\": test[\"target\"], \"y_score\": preds}).write_parquet(\n",
    "    \"iris_scores.parquet\"\n",
    ")"
   ]
  }
 ],
 "metadata": {
  "kernelspec": {
   "display_name": ".venv",
   "language": "python",
   "name": "python3"
  },
  "language_info": {
   "codemirror_mode": {
    "name": "ipython",
    "version": 3
   },
   "file_extension": ".py",
   "mimetype": "text/x-python",
   "name": "python",
   "nbconvert_exporter": "python",
   "pygments_lexer": "ipython3",
   "version": "3.13.3"
  }
 },
 "nbformat": 4,
 "nbformat_minor": 5
}
