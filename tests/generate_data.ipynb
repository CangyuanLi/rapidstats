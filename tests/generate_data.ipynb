{
 "cells": [
  {
   "cell_type": "code",
   "execution_count": 1,
   "id": "29fc89c3",
   "metadata": {},
   "outputs": [],
   "source": [
    "import sklearn.datasets\n",
    "import sklearn.linear_model\n",
    "import sklearn.model_selection\n",
    "import polars as pl"
   ]
  },
  {
   "cell_type": "code",
   "execution_count": 2,
   "id": "a3e3e52a",
   "metadata": {},
   "outputs": [],
   "source": [
    "d = sklearn.datasets.load_iris()\n",
    "\n",
    "features = d.feature_names\n",
    "df = pl.DataFrame(d.data, schema=features).with_columns(\n",
    "    pl.Series(\"target\", d.target).eq(1)\n",
    ")\n",
    "\n",
    "train, test = sklearn.model_selection.train_test_split(\n",
    "    df, test_size=0.5, random_state=208\n",
    ")\n",
    "\n",
    "model = sklearn.linear_model.LogisticRegression().fit(train[features], train[\"target\"])\n",
    "preds = model.predict_proba(test[features])[:, 1]\n",
    "\n",
    "\n",
    "pl.DataFrame({\"y_true\": test[\"target\"], \"y_score\": preds}).write_parquet(\n",
    "    \"iris_scores.parquet\"\n",
    ")"
   ]
  }
 ],
 "metadata": {
  "kernelspec": {
   "display_name": ".venv",
   "language": "python",
   "name": "python3"
  },
  "language_info": {
   "codemirror_mode": {
    "name": "ipython",
    "version": 3
   },
   "file_extension": ".py",
   "mimetype": "text/x-python",
   "name": "python",
   "nbconvert_exporter": "python",
   "pygments_lexer": "ipython3",
   "version": "3.13.3"
  }
 },
 "nbformat": 4,
 "nbformat_minor": 5
}
